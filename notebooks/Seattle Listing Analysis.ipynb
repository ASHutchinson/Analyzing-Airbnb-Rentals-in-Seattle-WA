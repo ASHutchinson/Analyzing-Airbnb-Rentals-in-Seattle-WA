{
 "cells": [
  {
   "cell_type": "code",
   "execution_count": 1,
   "id": "a50df6ae",
   "metadata": {},
   "outputs": [],
   "source": [
    "#!pip install wordcloud\n",
    "import json\n",
    "import pandas as pd \n",
    "import matplotlib.pyplot as plt \n",
    "from pprint import pprint # pretty print\n",
    "from tqdm import tqdm # google this\n",
    "from wordcloud import WordCloud\n",
    "import itertools\n",
    "from collections import Counter\n",
    "import collections\n",
    "import csv\n",
    "import numpy as np\n",
    "from scipy import stats"
   ]
  },
  {
   "cell_type": "code",
   "execution_count": 2,
   "id": "e260b87a",
   "metadata": {},
   "outputs": [],
   "source": [
    "#seattle = []\n",
    "#with open(\"listings.csv\",\"r\") as fp:\n",
    "    #for line in tqdm(fp):\n",
    "        #try:\n",
    "            #seattle.append(csv.loads(line))\n",
    "        #except:\n",
    "            #pass\n",
    "#df = pd.DataFrame.from_dict(seattle)\n",
    "#pprint(seattle)\n"
   ]
  },
  {
   "cell_type": "code",
   "execution_count": 3,
   "id": "11f9d38e",
   "metadata": {},
   "outputs": [
    {
     "data": {
      "text/html": [
       "<div>\n",
       "<style scoped>\n",
       "    .dataframe tbody tr th:only-of-type {\n",
       "        vertical-align: middle;\n",
       "    }\n",
       "\n",
       "    .dataframe tbody tr th {\n",
       "        vertical-align: top;\n",
       "    }\n",
       "\n",
       "    .dataframe thead th {\n",
       "        text-align: right;\n",
       "    }\n",
       "</style>\n",
       "<table border=\"1\" class=\"dataframe\">\n",
       "  <thead>\n",
       "    <tr style=\"text-align: right;\">\n",
       "      <th></th>\n",
       "      <th>id</th>\n",
       "      <th>listing_url</th>\n",
       "      <th>scrape_id</th>\n",
       "      <th>last_scraped</th>\n",
       "      <th>name</th>\n",
       "      <th>description</th>\n",
       "      <th>neighborhood_overview</th>\n",
       "      <th>picture_url</th>\n",
       "      <th>host_id</th>\n",
       "      <th>host_url</th>\n",
       "      <th>...</th>\n",
       "      <th>review_scores_communication</th>\n",
       "      <th>review_scores_location</th>\n",
       "      <th>review_scores_value</th>\n",
       "      <th>license</th>\n",
       "      <th>instant_bookable</th>\n",
       "      <th>calculated_host_listings_count</th>\n",
       "      <th>calculated_host_listings_count_entire_homes</th>\n",
       "      <th>calculated_host_listings_count_private_rooms</th>\n",
       "      <th>calculated_host_listings_count_shared_rooms</th>\n",
       "      <th>reviews_per_month</th>\n",
       "    </tr>\n",
       "  </thead>\n",
       "  <tbody>\n",
       "    <tr>\n",
       "      <th>0</th>\n",
       "      <td>2318</td>\n",
       "      <td>https://www.airbnb.com/rooms/2318</td>\n",
       "      <td>20210318170758</td>\n",
       "      <td>2021-04-01</td>\n",
       "      <td>Casa Madrona - Urban Oasis 1 block from the park!</td>\n",
       "      <td>Now booking 30 night Minimum only. Please cont...</td>\n",
       "      <td>Madrona is a hidden gem of a neighborhood. It ...</td>\n",
       "      <td>https://a0.muscache.com/pictures/02973ad3-a7a3...</td>\n",
       "      <td>2536</td>\n",
       "      <td>https://www.airbnb.com/users/show/2536</td>\n",
       "      <td>...</td>\n",
       "      <td>10.0</td>\n",
       "      <td>10.0</td>\n",
       "      <td>10.0</td>\n",
       "      <td>STR-OPLI-19-002837</td>\n",
       "      <td>f</td>\n",
       "      <td>2</td>\n",
       "      <td>2</td>\n",
       "      <td>0</td>\n",
       "      <td>0</td>\n",
       "      <td>0.21</td>\n",
       "    </tr>\n",
       "    <tr>\n",
       "      <th>1</th>\n",
       "      <td>9419</td>\n",
       "      <td>https://www.airbnb.com/rooms/9419</td>\n",
       "      <td>20210318170758</td>\n",
       "      <td>2021-03-19</td>\n",
       "      <td>Glorious sun room w/ memory foambed</td>\n",
       "      <td>Keeping you safe is our priority, we are adher...</td>\n",
       "      <td>Lots of restaurants (see our guide book) bars,...</td>\n",
       "      <td>https://a0.muscache.com/pictures/56645186/e5fb...</td>\n",
       "      <td>30559</td>\n",
       "      <td>https://www.airbnb.com/users/show/30559</td>\n",
       "      <td>...</td>\n",
       "      <td>10.0</td>\n",
       "      <td>10.0</td>\n",
       "      <td>10.0</td>\n",
       "      <td>STR-OPLI-19-003039</td>\n",
       "      <td>f</td>\n",
       "      <td>7</td>\n",
       "      <td>0</td>\n",
       "      <td>7</td>\n",
       "      <td>0</td>\n",
       "      <td>1.14</td>\n",
       "    </tr>\n",
       "    <tr>\n",
       "      <th>2</th>\n",
       "      <td>9531</td>\n",
       "      <td>https://www.airbnb.com/rooms/9531</td>\n",
       "      <td>20210318170758</td>\n",
       "      <td>2021-03-20</td>\n",
       "      <td>The Adorable Sweet Orange Craftsman</td>\n",
       "      <td>The Sweet Orange is a delightful and spacious ...</td>\n",
       "      <td>The neighborhood is awesome!  Just far enough ...</td>\n",
       "      <td>https://a0.muscache.com/pictures/30470355/052c...</td>\n",
       "      <td>31481</td>\n",
       "      <td>https://www.airbnb.com/users/show/31481</td>\n",
       "      <td>...</td>\n",
       "      <td>10.0</td>\n",
       "      <td>10.0</td>\n",
       "      <td>10.0</td>\n",
       "      <td>STR-OPLI-19-002182</td>\n",
       "      <td>f</td>\n",
       "      <td>2</td>\n",
       "      <td>2</td>\n",
       "      <td>0</td>\n",
       "      <td>0</td>\n",
       "      <td>0.37</td>\n",
       "    </tr>\n",
       "    <tr>\n",
       "      <th>3</th>\n",
       "      <td>9534</td>\n",
       "      <td>https://www.airbnb.com/rooms/9534</td>\n",
       "      <td>20210318170758</td>\n",
       "      <td>2021-03-19</td>\n",
       "      <td>The Coolest Tangerine Dream MIL!</td>\n",
       "      <td>Welcome to my delicious Tangerine Dream!  A co...</td>\n",
       "      <td>The neighborhood is the best of two worlds...w...</td>\n",
       "      <td>https://a0.muscache.com/pictures/30476721/0751...</td>\n",
       "      <td>31481</td>\n",
       "      <td>https://www.airbnb.com/users/show/31481</td>\n",
       "      <td>...</td>\n",
       "      <td>10.0</td>\n",
       "      <td>10.0</td>\n",
       "      <td>10.0</td>\n",
       "      <td>STR-OPLI-19-002182</td>\n",
       "      <td>f</td>\n",
       "      <td>2</td>\n",
       "      <td>2</td>\n",
       "      <td>0</td>\n",
       "      <td>0</td>\n",
       "      <td>0.50</td>\n",
       "    </tr>\n",
       "    <tr>\n",
       "      <th>4</th>\n",
       "      <td>9596</td>\n",
       "      <td>https://www.airbnb.com/rooms/9596</td>\n",
       "      <td>20210318170758</td>\n",
       "      <td>2021-03-20</td>\n",
       "      <td>the down home , spacious, central and fab!</td>\n",
       "      <td>We are in a great neighborhood, quiet, full of...</td>\n",
       "      <td>if you arrive early for check in at 3,  I reco...</td>\n",
       "      <td>https://a0.muscache.com/pictures/665252/102d18...</td>\n",
       "      <td>14942</td>\n",
       "      <td>https://www.airbnb.com/users/show/14942</td>\n",
       "      <td>...</td>\n",
       "      <td>9.0</td>\n",
       "      <td>10.0</td>\n",
       "      <td>9.0</td>\n",
       "      <td>STR-OPLI-19-002622</td>\n",
       "      <td>f</td>\n",
       "      <td>2</td>\n",
       "      <td>2</td>\n",
       "      <td>0</td>\n",
       "      <td>0</td>\n",
       "      <td>0.82</td>\n",
       "    </tr>\n",
       "    <tr>\n",
       "      <th>...</th>\n",
       "      <td>...</td>\n",
       "      <td>...</td>\n",
       "      <td>...</td>\n",
       "      <td>...</td>\n",
       "      <td>...</td>\n",
       "      <td>...</td>\n",
       "      <td>...</td>\n",
       "      <td>...</td>\n",
       "      <td>...</td>\n",
       "      <td>...</td>\n",
       "      <td>...</td>\n",
       "      <td>...</td>\n",
       "      <td>...</td>\n",
       "      <td>...</td>\n",
       "      <td>...</td>\n",
       "      <td>...</td>\n",
       "      <td>...</td>\n",
       "      <td>...</td>\n",
       "      <td>...</td>\n",
       "      <td>...</td>\n",
       "      <td>...</td>\n",
       "    </tr>\n",
       "    <tr>\n",
       "      <th>4208</th>\n",
       "      <td>48715255</td>\n",
       "      <td>https://www.airbnb.com/rooms/48715255</td>\n",
       "      <td>20210318170758</td>\n",
       "      <td>2021-03-19</td>\n",
       "      <td>Spacious 2BD apartment with self-checkin</td>\n",
       "      <td>Experience a home away from home in these mode...</td>\n",
       "      <td>NaN</td>\n",
       "      <td>https://a0.muscache.com/pictures/prohost-api/H...</td>\n",
       "      <td>8534462</td>\n",
       "      <td>https://www.airbnb.com/users/show/8534462</td>\n",
       "      <td>...</td>\n",
       "      <td>NaN</td>\n",
       "      <td>NaN</td>\n",
       "      <td>NaN</td>\n",
       "      <td>STR-OPLI-19-003325</td>\n",
       "      <td>t</td>\n",
       "      <td>140</td>\n",
       "      <td>140</td>\n",
       "      <td>0</td>\n",
       "      <td>0</td>\n",
       "      <td>NaN</td>\n",
       "    </tr>\n",
       "    <tr>\n",
       "      <th>4209</th>\n",
       "      <td>48715257</td>\n",
       "      <td>https://www.airbnb.com/rooms/48715257</td>\n",
       "      <td>20210318170758</td>\n",
       "      <td>2021-03-20</td>\n",
       "      <td>Amazing 2BD Seattle apartment, fast wifi, self...</td>\n",
       "      <td>Experience a home away from home in these mode...</td>\n",
       "      <td>NaN</td>\n",
       "      <td>https://a0.muscache.com/pictures/prohost-api/H...</td>\n",
       "      <td>8534462</td>\n",
       "      <td>https://www.airbnb.com/users/show/8534462</td>\n",
       "      <td>...</td>\n",
       "      <td>NaN</td>\n",
       "      <td>NaN</td>\n",
       "      <td>NaN</td>\n",
       "      <td>STR-OPLI-19-003325</td>\n",
       "      <td>t</td>\n",
       "      <td>140</td>\n",
       "      <td>140</td>\n",
       "      <td>0</td>\n",
       "      <td>0</td>\n",
       "      <td>NaN</td>\n",
       "    </tr>\n",
       "    <tr>\n",
       "      <th>4210</th>\n",
       "      <td>48718112</td>\n",
       "      <td>https://www.airbnb.com/rooms/48718112</td>\n",
       "      <td>20210318170758</td>\n",
       "      <td>2021-03-19</td>\n",
       "      <td>Seattle Water View Home with Hot Tub: Trendy B...</td>\n",
       "      <td>We want you to know we are doing our part to e...</td>\n",
       "      <td>Ballard</td>\n",
       "      <td>https://a0.muscache.com/pictures/60391490-0a5c...</td>\n",
       "      <td>8009691</td>\n",
       "      <td>https://www.airbnb.com/users/show/8009691</td>\n",
       "      <td>...</td>\n",
       "      <td>NaN</td>\n",
       "      <td>NaN</td>\n",
       "      <td>NaN</td>\n",
       "      <td>STR-OPLI-19-001991</td>\n",
       "      <td>f</td>\n",
       "      <td>5</td>\n",
       "      <td>5</td>\n",
       "      <td>0</td>\n",
       "      <td>0</td>\n",
       "      <td>NaN</td>\n",
       "    </tr>\n",
       "    <tr>\n",
       "      <th>4211</th>\n",
       "      <td>48718428</td>\n",
       "      <td>https://www.airbnb.com/rooms/48718428</td>\n",
       "      <td>20210318170758</td>\n",
       "      <td>2021-03-19</td>\n",
       "      <td>**WOW** Stylish Ballard True 1BR Apt - Pets ok!</td>\n",
       "      <td>Focused exclusively on 30 day+ stays to meet t...</td>\n",
       "      <td>Located right near Market Street and 15th at t...</td>\n",
       "      <td>https://a0.muscache.com/pictures/d9c8ad96-c7af...</td>\n",
       "      <td>218805459</td>\n",
       "      <td>https://www.airbnb.com/users/show/218805459</td>\n",
       "      <td>...</td>\n",
       "      <td>NaN</td>\n",
       "      <td>NaN</td>\n",
       "      <td>NaN</td>\n",
       "      <td>NaN</td>\n",
       "      <td>t</td>\n",
       "      <td>60</td>\n",
       "      <td>60</td>\n",
       "      <td>0</td>\n",
       "      <td>0</td>\n",
       "      <td>NaN</td>\n",
       "    </tr>\n",
       "    <tr>\n",
       "      <th>4212</th>\n",
       "      <td>48727524</td>\n",
       "      <td>https://www.airbnb.com/rooms/48727524</td>\n",
       "      <td>20210318170758</td>\n",
       "      <td>2021-03-19</td>\n",
       "      <td>Capitol Hill Studio, w/ W/D by Blueground</td>\n",
       "      <td>Feel at home wherever you choose to live with ...</td>\n",
       "      <td>This furnished apartment is situated in Capito...</td>\n",
       "      <td>https://a0.muscache.com/pictures/prohost-api/H...</td>\n",
       "      <td>107434423</td>\n",
       "      <td>https://www.airbnb.com/users/show/107434423</td>\n",
       "      <td>...</td>\n",
       "      <td>NaN</td>\n",
       "      <td>NaN</td>\n",
       "      <td>NaN</td>\n",
       "      <td>NaN</td>\n",
       "      <td>t</td>\n",
       "      <td>93</td>\n",
       "      <td>93</td>\n",
       "      <td>0</td>\n",
       "      <td>0</td>\n",
       "      <td>NaN</td>\n",
       "    </tr>\n",
       "  </tbody>\n",
       "</table>\n",
       "<p>4213 rows × 74 columns</p>\n",
       "</div>"
      ],
      "text/plain": [
       "            id                            listing_url       scrape_id  \\\n",
       "0         2318      https://www.airbnb.com/rooms/2318  20210318170758   \n",
       "1         9419      https://www.airbnb.com/rooms/9419  20210318170758   \n",
       "2         9531      https://www.airbnb.com/rooms/9531  20210318170758   \n",
       "3         9534      https://www.airbnb.com/rooms/9534  20210318170758   \n",
       "4         9596      https://www.airbnb.com/rooms/9596  20210318170758   \n",
       "...        ...                                    ...             ...   \n",
       "4208  48715255  https://www.airbnb.com/rooms/48715255  20210318170758   \n",
       "4209  48715257  https://www.airbnb.com/rooms/48715257  20210318170758   \n",
       "4210  48718112  https://www.airbnb.com/rooms/48718112  20210318170758   \n",
       "4211  48718428  https://www.airbnb.com/rooms/48718428  20210318170758   \n",
       "4212  48727524  https://www.airbnb.com/rooms/48727524  20210318170758   \n",
       "\n",
       "     last_scraped                                               name  \\\n",
       "0      2021-04-01  Casa Madrona - Urban Oasis 1 block from the park!   \n",
       "1      2021-03-19                Glorious sun room w/ memory foambed   \n",
       "2      2021-03-20                The Adorable Sweet Orange Craftsman   \n",
       "3      2021-03-19                   The Coolest Tangerine Dream MIL!   \n",
       "4      2021-03-20         the down home , spacious, central and fab!   \n",
       "...           ...                                                ...   \n",
       "4208   2021-03-19           Spacious 2BD apartment with self-checkin   \n",
       "4209   2021-03-20  Amazing 2BD Seattle apartment, fast wifi, self...   \n",
       "4210   2021-03-19  Seattle Water View Home with Hot Tub: Trendy B...   \n",
       "4211   2021-03-19    **WOW** Stylish Ballard True 1BR Apt - Pets ok!   \n",
       "4212   2021-03-19          Capitol Hill Studio, w/ W/D by Blueground   \n",
       "\n",
       "                                            description  \\\n",
       "0     Now booking 30 night Minimum only. Please cont...   \n",
       "1     Keeping you safe is our priority, we are adher...   \n",
       "2     The Sweet Orange is a delightful and spacious ...   \n",
       "3     Welcome to my delicious Tangerine Dream!  A co...   \n",
       "4     We are in a great neighborhood, quiet, full of...   \n",
       "...                                                 ...   \n",
       "4208  Experience a home away from home in these mode...   \n",
       "4209  Experience a home away from home in these mode...   \n",
       "4210  We want you to know we are doing our part to e...   \n",
       "4211  Focused exclusively on 30 day+ stays to meet t...   \n",
       "4212  Feel at home wherever you choose to live with ...   \n",
       "\n",
       "                                  neighborhood_overview  \\\n",
       "0     Madrona is a hidden gem of a neighborhood. It ...   \n",
       "1     Lots of restaurants (see our guide book) bars,...   \n",
       "2     The neighborhood is awesome!  Just far enough ...   \n",
       "3     The neighborhood is the best of two worlds...w...   \n",
       "4     if you arrive early for check in at 3,  I reco...   \n",
       "...                                                 ...   \n",
       "4208                                                NaN   \n",
       "4209                                                NaN   \n",
       "4210                                            Ballard   \n",
       "4211  Located right near Market Street and 15th at t...   \n",
       "4212  This furnished apartment is situated in Capito...   \n",
       "\n",
       "                                            picture_url    host_id  \\\n",
       "0     https://a0.muscache.com/pictures/02973ad3-a7a3...       2536   \n",
       "1     https://a0.muscache.com/pictures/56645186/e5fb...      30559   \n",
       "2     https://a0.muscache.com/pictures/30470355/052c...      31481   \n",
       "3     https://a0.muscache.com/pictures/30476721/0751...      31481   \n",
       "4     https://a0.muscache.com/pictures/665252/102d18...      14942   \n",
       "...                                                 ...        ...   \n",
       "4208  https://a0.muscache.com/pictures/prohost-api/H...    8534462   \n",
       "4209  https://a0.muscache.com/pictures/prohost-api/H...    8534462   \n",
       "4210  https://a0.muscache.com/pictures/60391490-0a5c...    8009691   \n",
       "4211  https://a0.muscache.com/pictures/d9c8ad96-c7af...  218805459   \n",
       "4212  https://a0.muscache.com/pictures/prohost-api/H...  107434423   \n",
       "\n",
       "                                         host_url  ...  \\\n",
       "0          https://www.airbnb.com/users/show/2536  ...   \n",
       "1         https://www.airbnb.com/users/show/30559  ...   \n",
       "2         https://www.airbnb.com/users/show/31481  ...   \n",
       "3         https://www.airbnb.com/users/show/31481  ...   \n",
       "4         https://www.airbnb.com/users/show/14942  ...   \n",
       "...                                           ...  ...   \n",
       "4208    https://www.airbnb.com/users/show/8534462  ...   \n",
       "4209    https://www.airbnb.com/users/show/8534462  ...   \n",
       "4210    https://www.airbnb.com/users/show/8009691  ...   \n",
       "4211  https://www.airbnb.com/users/show/218805459  ...   \n",
       "4212  https://www.airbnb.com/users/show/107434423  ...   \n",
       "\n",
       "     review_scores_communication review_scores_location review_scores_value  \\\n",
       "0                           10.0                   10.0                10.0   \n",
       "1                           10.0                   10.0                10.0   \n",
       "2                           10.0                   10.0                10.0   \n",
       "3                           10.0                   10.0                10.0   \n",
       "4                            9.0                   10.0                 9.0   \n",
       "...                          ...                    ...                 ...   \n",
       "4208                         NaN                    NaN                 NaN   \n",
       "4209                         NaN                    NaN                 NaN   \n",
       "4210                         NaN                    NaN                 NaN   \n",
       "4211                         NaN                    NaN                 NaN   \n",
       "4212                         NaN                    NaN                 NaN   \n",
       "\n",
       "                 license instant_bookable calculated_host_listings_count  \\\n",
       "0     STR-OPLI-19-002837                f                              2   \n",
       "1     STR-OPLI-19-003039                f                              7   \n",
       "2     STR-OPLI-19-002182                f                              2   \n",
       "3     STR-OPLI-19-002182                f                              2   \n",
       "4     STR-OPLI-19-002622                f                              2   \n",
       "...                  ...              ...                            ...   \n",
       "4208  STR-OPLI-19-003325                t                            140   \n",
       "4209  STR-OPLI-19-003325                t                            140   \n",
       "4210  STR-OPLI-19-001991                f                              5   \n",
       "4211                 NaN                t                             60   \n",
       "4212                 NaN                t                             93   \n",
       "\n",
       "     calculated_host_listings_count_entire_homes  \\\n",
       "0                                              2   \n",
       "1                                              0   \n",
       "2                                              2   \n",
       "3                                              2   \n",
       "4                                              2   \n",
       "...                                          ...   \n",
       "4208                                         140   \n",
       "4209                                         140   \n",
       "4210                                           5   \n",
       "4211                                          60   \n",
       "4212                                          93   \n",
       "\n",
       "     calculated_host_listings_count_private_rooms  \\\n",
       "0                                               0   \n",
       "1                                               7   \n",
       "2                                               0   \n",
       "3                                               0   \n",
       "4                                               0   \n",
       "...                                           ...   \n",
       "4208                                            0   \n",
       "4209                                            0   \n",
       "4210                                            0   \n",
       "4211                                            0   \n",
       "4212                                            0   \n",
       "\n",
       "     calculated_host_listings_count_shared_rooms reviews_per_month  \n",
       "0                                              0              0.21  \n",
       "1                                              0              1.14  \n",
       "2                                              0              0.37  \n",
       "3                                              0              0.50  \n",
       "4                                              0              0.82  \n",
       "...                                          ...               ...  \n",
       "4208                                           0               NaN  \n",
       "4209                                           0               NaN  \n",
       "4210                                           0               NaN  \n",
       "4211                                           0               NaN  \n",
       "4212                                           0               NaN  \n",
       "\n",
       "[4213 rows x 74 columns]"
      ]
     },
     "execution_count": 3,
     "metadata": {},
     "output_type": "execute_result"
    }
   ],
   "source": [
    "listings_df = pd.read_csv('listings.csv')\n",
    "listings_df"
   ]
  },
  {
   "cell_type": "code",
   "execution_count": 19,
   "id": "05cd5add",
   "metadata": {},
   "outputs": [],
   "source": [
    "names = listings_df['name']\n",
    "description = listings_df['description']\n",
    "nbhood_oview = listings_df['neighborhood_overview']\n",
    "instant_book = listings_df['instant_bookable']\n",
    "lstgs_per_host = listings_df['host_total_listings_count']\n",
    "host_name = listings_df['host_name']\n",
    "resp_time = listings_df['host_response_time']\n",
    "accep_rate = listings_df['host_acceptance_rate']\n",
    "avail_365 = listings_df['availability_365']\n",
    "resp_rate = listings_df['host_response_rate']\n",
    "superhost = listings_df['host_is_superhost']\n",
    "pro_pic = listings_df['host_has_profile_pic']\n",
    "nbhood = listings_df['neighbourhood_group_cleansed']\n",
    "prop_type = listings_df['property_type']\n",
    "room_type = listings_df['room_type']\n",
    "num_accom = listings_df['accommodates']\n",
    "baths = listings_df['bathrooms_text']\n",
    "bedrooms = listings_df['bedrooms']\n",
    "beds = listings_df['beds']\n",
    "amenities = listings_df['amenities']\n",
    "price = listings_df['price']\n",
    "min_nights = listings_df['minimum_nights']\n",
    "num_reviews = listings_df['number_of_reviews']\n",
    "rev_scores = listings_df['review_scores_rating']\n",
    "rev_clean = listings_df['review_scores_cleanliness'] \n",
    "#rev_per_month = pd.concat(listings_df['reviews_per_month'], listings_df['id'], axis = 0)"
   ]
  },
  {
   "cell_type": "code",
   "execution_count": 63,
   "id": "f1f07a43",
   "metadata": {},
   "outputs": [
    {
     "data": {
      "text/plain": [
       "57.24038461538461"
      ]
     },
     "execution_count": 63,
     "metadata": {},
     "output_type": "execute_result"
    }
   ],
   "source": [
    "entire_home_num_reviews = num_reviews.loc[listings_df['room_type'] == 'Entire home/apt']\n",
    "private_room_num_reviews = num_reviews.loc[listings_df['room_type'] == 'Private room']\n",
    "entire_home_num_reviews.mean()\n",
    "private_room_num_reviews.mean()\n"
   ]
  },
  {
   "cell_type": "code",
   "execution_count": 67,
   "id": "4c40f866",
   "metadata": {},
   "outputs": [
    {
     "data": {
      "text/plain": [
       "93.937106918239"
      ]
     },
     "execution_count": 67,
     "metadata": {},
     "output_type": "execute_result"
    }
   ],
   "source": [
    "resp_rate = resp_rate.replace('[\\%,]', '', regex=True).astype(float)\n",
    "resp_rate.dropna(inplace = True)\n",
    "entire_home_resp_rate = resp_rate.loc[listings_df['room_type'] == 'Entire home/apt']\n",
    "private_room_resp_rate = resp_rate.loc[listings_df['room_type'] == 'Private room']\n",
    "entire_home_resp_rate.mean()\n",
    "private_room_resp_rate.mean()"
   ]
  },
  {
   "cell_type": "code",
   "execution_count": 66,
   "id": "b8ed4ed4",
   "metadata": {},
   "outputs": [
    {
     "data": {
      "text/plain": [
       "95.2009585758302"
      ]
     },
     "execution_count": 66,
     "metadata": {},
     "output_type": "execute_result"
    }
   ],
   "source": [
    "entire_home_resp_rate.mean()"
   ]
  },
  {
   "cell_type": "code",
   "execution_count": 43,
   "id": "b888937a",
   "metadata": {},
   "outputs": [
    {
     "data": {
      "text/plain": [
       "Other neighborhoods    0.229396\n",
       "Rainier Valley         0.094780\n",
       "Capitol Hill           0.092033\n",
       "Central Area           0.090659\n",
       "Beacon Hill            0.079670\n",
       "Delridge               0.056319\n",
       "Northgate              0.056319\n",
       "Queen Anne             0.045330\n",
       "University District    0.043956\n",
       "Ballard                0.039835\n",
       "West Seattle           0.039835\n",
       "Downtown               0.035714\n",
       "Cascade                0.032967\n",
       "Lake City              0.027473\n",
       "Magnolia               0.019231\n",
       "Seward Park            0.013736\n",
       "Interbay               0.002747\n",
       "Name: neighbourhood_group_cleansed, dtype: float64"
      ]
     },
     "execution_count": 43,
     "metadata": {},
     "output_type": "execute_result"
    }
   ],
   "source": [
    "entire_home_nbhood = nbhood.loc[listings_df['room_type'] == 'Entire home/apt']\n",
    "private_room_nbhood = nbhood.loc[listings_df['room_type'] == 'Private room']\n",
    "entire_home_nbhood.value_counts()\n",
    "private_room_nbhood.value_counts(normalize = True)"
   ]
  },
  {
   "cell_type": "code",
   "execution_count": 44,
   "id": "d58ab0a4",
   "metadata": {},
   "outputs": [
    {
     "data": {
      "text/plain": [
       "Downtown               0.193869\n",
       "Other neighborhoods    0.175474\n",
       "Capitol Hill           0.094307\n",
       "Central Area           0.076496\n",
       "Queen Anne             0.074453\n",
       "West Seattle           0.071241\n",
       "Ballard                0.054599\n",
       "Cascade                0.049051\n",
       "Rainier Valley         0.042920\n",
       "Beacon Hill            0.039708\n",
       "University District    0.031825\n",
       "Delridge               0.022774\n",
       "Magnolia               0.019562\n",
       "Northgate              0.018686\n",
       "Lake City              0.015182\n",
       "Interbay               0.011387\n",
       "Seward Park            0.008467\n",
       "Name: neighbourhood_group_cleansed, dtype: float64"
      ]
     },
     "execution_count": 44,
     "metadata": {},
     "output_type": "execute_result"
    }
   ],
   "source": [
    "entire_home_nbhood.value_counts(normalize = True)"
   ]
  },
  {
   "cell_type": "code",
   "execution_count": 20,
   "id": "4151bc86",
   "metadata": {},
   "outputs": [
    {
     "data": {
      "text/plain": [
       "94.0672"
      ]
     },
     "execution_count": 20,
     "metadata": {},
     "output_type": "execute_result"
    }
   ],
   "source": [
    "rev_clean.dropna(inplace = True)\n",
    "rev_clean\n",
    "rev_scores.dropna(inplace = True)\n",
    "entire_home_rev_scores = rev_scores.loc[listings_df['room_type'] == 'Entire home/apt']\n",
    "private_room_rev_scores = rev_scores.loc[listings_df['room_type'] == 'Private room']\n",
    "entire_home_rev_scores.mean()\n",
    "private_room_rev_scores.mean()"
   ]
  },
  {
   "cell_type": "code",
   "execution_count": 25,
   "id": "8bd9b6d8",
   "metadata": {},
   "outputs": [
    {
     "data": {
      "text/plain": [
       "166.33430656934306"
      ]
     },
     "execution_count": 25,
     "metadata": {},
     "output_type": "execute_result"
    }
   ],
   "source": [
    "entire_home_avail_365 = avail_365.loc[listings_df['room_type'] == 'Entire home/apt']\n",
    "private_room_avail_365 = avail_365.loc[listings_df['room_type'] == 'Private room']\n",
    "entire_home_avail_365.mean()"
   ]
  },
  {
   "cell_type": "code",
   "execution_count": 26,
   "id": "3c1ed51d",
   "metadata": {},
   "outputs": [
    {
     "data": {
      "text/plain": [
       "180.3021978021978"
      ]
     },
     "execution_count": 26,
     "metadata": {},
     "output_type": "execute_result"
    }
   ],
   "source": [
    "private_room_avail_365.mean()"
   ]
  },
  {
   "cell_type": "code",
   "execution_count": 6,
   "id": "4b6dafeb",
   "metadata": {},
   "outputs": [
    {
     "data": {
      "text/plain": [
       "3425"
      ]
     },
     "execution_count": 6,
     "metadata": {},
     "output_type": "execute_result"
    }
   ],
   "source": [
    "price = price.replace('[\\$,]', '', regex=True).astype(float)\n",
    "entire_homes = room_type[room_type == 'Entire home/apt']\n",
    "entire_home_clean_rev = rev_clean.loc[listings_df['room_type'] == 'Entire home/apt']\n",
    "entire_home_price = price.loc[listings_df['room_type'] == 'Entire home/apt']\n",
    "entire_home_clean_rev.mean()\n",
    "entire_homes.count()\n",
    "entire_home_clean_rev.count()\n",
    "entire_homes.count()"
   ]
  },
  {
   "cell_type": "code",
   "execution_count": 7,
   "id": "a80f4b59",
   "metadata": {},
   "outputs": [
    {
     "data": {
      "text/plain": [
       "148.61459854014598"
      ]
     },
     "execution_count": 7,
     "metadata": {},
     "output_type": "execute_result"
    }
   ],
   "source": [
    "entire_home_price.mean()"
   ]
  },
  {
   "cell_type": "code",
   "execution_count": 9,
   "id": "99e9792e",
   "metadata": {},
   "outputs": [
    {
     "data": {
      "text/plain": [
       "622"
      ]
     },
     "execution_count": 9,
     "metadata": {},
     "output_type": "execute_result"
    }
   ],
   "source": [
    "private_rooms = room_type[room_type == 'Private room']\n",
    "private_room_clean_rev = rev_clean.loc[listings_df['room_type'] == 'Private room']\n",
    "private_room_price = price.loc[listings_df['room_type'] == 'Private room']\n",
    "private_room_clean_rev.mean()  \n",
    "private_rooms.count() \n",
    "private_room_clean_rev.count() "
   ]
  },
  {
   "cell_type": "code",
   "execution_count": 10,
   "id": "ad4a9757",
   "metadata": {},
   "outputs": [
    {
     "data": {
      "text/plain": [
       "73.58928571428571"
      ]
     },
     "execution_count": 10,
     "metadata": {},
     "output_type": "execute_result"
    }
   ],
   "source": [
    "private_room_price.mean()"
   ]
  },
  {
   "cell_type": "markdown",
   "id": "889dc93e",
   "metadata": {},
   "source": [
    "#### hypothesis testing"
   ]
  },
  {
   "cell_type": "code",
   "execution_count": 11,
   "id": "ddbb6cd6",
   "metadata": {},
   "outputs": [
    {
     "data": {
      "text/plain": [
       "0.99134"
      ]
     },
     "execution_count": 11,
     "metadata": {},
     "output_type": "execute_result"
    }
   ],
   "source": [
    "homes = entire_homes.count()\n",
    "clean_a = entire_home_clean_rev.sum()\n",
    "failures_a = entire_homes.count() - entire_home_clean_rev.count()\n",
    "\n",
    "rooms = private_rooms.count()\n",
    "clean_b = private_room_clean_rev.sum() \n",
    "failures_b = private_rooms.count() - private_room_clean_rev.count() \n",
    "\n",
    "beta_a = stats.beta(1+clean_a, 1+failures_a)\n",
    "beta_b = stats.beta(1+clean_b, 1+failures_b)\n",
    "\n",
    "samp_a = beta_a.rvs(size=100000)\n",
    "samp_b = beta_b.rvs(size=100000)\n",
    "\n",
    "(samp_b > samp_a).mean()"
   ]
  },
  {
   "cell_type": "markdown",
   "id": "15628b8a",
   "metadata": {},
   "source": [
    "####"
   ]
  },
  {
   "cell_type": "code",
   "execution_count": 41,
   "id": "2eedfe33",
   "metadata": {},
   "outputs": [
    {
     "ename": "ValueError",
     "evalue": "plot kind scatter can only be used for data frames",
     "output_type": "error",
     "traceback": [
      "\u001b[0;31m---------------------------------------------------------------------------\u001b[0m",
      "\u001b[0;31mValueError\u001b[0m                                Traceback (most recent call last)",
      "\u001b[0;32m<ipython-input-41-5d3880ae8b1a>\u001b[0m in \u001b[0;36m<module>\u001b[0;34m\u001b[0m\n\u001b[0;32m----> 1\u001b[0;31m \u001b[0mentire_home_nbhood\u001b[0m\u001b[0;34m.\u001b[0m\u001b[0mplot\u001b[0m\u001b[0;34m.\u001b[0m\u001b[0mscatter\u001b[0m\u001b[0;34m(\u001b[0m\u001b[0mentire_home_nbhood\u001b[0m\u001b[0;34m,\u001b[0m \u001b[0mentire_home_nbhood\u001b[0m\u001b[0;34m.\u001b[0m\u001b[0mvalue_counts\u001b[0m\u001b[0;34m(\u001b[0m\u001b[0;34m)\u001b[0m\u001b[0;34m)\u001b[0m\u001b[0;34m\u001b[0m\u001b[0;34m\u001b[0m\u001b[0m\n\u001b[0m",
      "\u001b[0;32m/Applications/anaconda3/lib/python3.8/site-packages/pandas/plotting/_core.py\u001b[0m in \u001b[0;36mscatter\u001b[0;34m(self, x, y, s, c, **kwargs)\u001b[0m\n\u001b[1;32m   1617\u001b[0m             ...                       colormap='viridis')\n\u001b[1;32m   1618\u001b[0m         \"\"\"\n\u001b[0;32m-> 1619\u001b[0;31m         \u001b[0;32mreturn\u001b[0m \u001b[0mself\u001b[0m\u001b[0;34m(\u001b[0m\u001b[0mkind\u001b[0m\u001b[0;34m=\u001b[0m\u001b[0;34m\"scatter\"\u001b[0m\u001b[0;34m,\u001b[0m \u001b[0mx\u001b[0m\u001b[0;34m=\u001b[0m\u001b[0mx\u001b[0m\u001b[0;34m,\u001b[0m \u001b[0my\u001b[0m\u001b[0;34m=\u001b[0m\u001b[0my\u001b[0m\u001b[0;34m,\u001b[0m \u001b[0ms\u001b[0m\u001b[0;34m=\u001b[0m\u001b[0ms\u001b[0m\u001b[0;34m,\u001b[0m \u001b[0mc\u001b[0m\u001b[0;34m=\u001b[0m\u001b[0mc\u001b[0m\u001b[0;34m,\u001b[0m \u001b[0;34m**\u001b[0m\u001b[0mkwargs\u001b[0m\u001b[0;34m)\u001b[0m\u001b[0;34m\u001b[0m\u001b[0;34m\u001b[0m\u001b[0m\n\u001b[0m\u001b[1;32m   1620\u001b[0m \u001b[0;34m\u001b[0m\u001b[0m\n\u001b[1;32m   1621\u001b[0m     \u001b[0;32mdef\u001b[0m \u001b[0mhexbin\u001b[0m\u001b[0;34m(\u001b[0m\u001b[0mself\u001b[0m\u001b[0;34m,\u001b[0m \u001b[0mx\u001b[0m\u001b[0;34m,\u001b[0m \u001b[0my\u001b[0m\u001b[0;34m,\u001b[0m \u001b[0mC\u001b[0m\u001b[0;34m=\u001b[0m\u001b[0;32mNone\u001b[0m\u001b[0;34m,\u001b[0m \u001b[0mreduce_C_function\u001b[0m\u001b[0;34m=\u001b[0m\u001b[0;32mNone\u001b[0m\u001b[0;34m,\u001b[0m \u001b[0mgridsize\u001b[0m\u001b[0;34m=\u001b[0m\u001b[0;32mNone\u001b[0m\u001b[0;34m,\u001b[0m \u001b[0;34m**\u001b[0m\u001b[0mkwargs\u001b[0m\u001b[0;34m)\u001b[0m\u001b[0;34m:\u001b[0m\u001b[0;34m\u001b[0m\u001b[0;34m\u001b[0m\u001b[0m\n",
      "\u001b[0;32m/Applications/anaconda3/lib/python3.8/site-packages/pandas/plotting/_core.py\u001b[0m in \u001b[0;36m__call__\u001b[0;34m(self, *args, **kwargs)\u001b[0m\n\u001b[1;32m    900\u001b[0m                 \u001b[0;32mreturn\u001b[0m \u001b[0mplot_backend\u001b[0m\u001b[0;34m.\u001b[0m\u001b[0mplot\u001b[0m\u001b[0;34m(\u001b[0m\u001b[0mdata\u001b[0m\u001b[0;34m,\u001b[0m \u001b[0mx\u001b[0m\u001b[0;34m=\u001b[0m\u001b[0mx\u001b[0m\u001b[0;34m,\u001b[0m \u001b[0my\u001b[0m\u001b[0;34m=\u001b[0m\u001b[0my\u001b[0m\u001b[0;34m,\u001b[0m \u001b[0mkind\u001b[0m\u001b[0;34m=\u001b[0m\u001b[0mkind\u001b[0m\u001b[0;34m,\u001b[0m \u001b[0;34m**\u001b[0m\u001b[0mkwargs\u001b[0m\u001b[0;34m)\u001b[0m\u001b[0;34m\u001b[0m\u001b[0;34m\u001b[0m\u001b[0m\n\u001b[1;32m    901\u001b[0m             \u001b[0;32melse\u001b[0m\u001b[0;34m:\u001b[0m\u001b[0;34m\u001b[0m\u001b[0;34m\u001b[0m\u001b[0m\n\u001b[0;32m--> 902\u001b[0;31m                 \u001b[0;32mraise\u001b[0m \u001b[0mValueError\u001b[0m\u001b[0;34m(\u001b[0m\u001b[0;34mf\"plot kind {kind} can only be used for data frames\"\u001b[0m\u001b[0;34m)\u001b[0m\u001b[0;34m\u001b[0m\u001b[0;34m\u001b[0m\u001b[0m\n\u001b[0m\u001b[1;32m    903\u001b[0m         \u001b[0;32melif\u001b[0m \u001b[0mkind\u001b[0m \u001b[0;32min\u001b[0m \u001b[0mself\u001b[0m\u001b[0;34m.\u001b[0m\u001b[0m_series_kinds\u001b[0m\u001b[0;34m:\u001b[0m\u001b[0;34m\u001b[0m\u001b[0;34m\u001b[0m\u001b[0m\n\u001b[1;32m    904\u001b[0m             \u001b[0;32mif\u001b[0m \u001b[0misinstance\u001b[0m\u001b[0;34m(\u001b[0m\u001b[0mdata\u001b[0m\u001b[0;34m,\u001b[0m \u001b[0mABCDataFrame\u001b[0m\u001b[0;34m)\u001b[0m\u001b[0;34m:\u001b[0m\u001b[0;34m\u001b[0m\u001b[0;34m\u001b[0m\u001b[0m\n",
      "\u001b[0;31mValueError\u001b[0m: plot kind scatter can only be used for data frames"
     ]
    }
   ],
   "source": [
    "entire_home_nbhood.plot.scatter(entire_home_nbhood, entire_home_nbhood.value_counts())"
   ]
  },
  {
   "cell_type": "code",
   "execution_count": null,
   "id": "bd903ce9",
   "metadata": {},
   "outputs": [],
   "source": []
  },
  {
   "cell_type": "code",
   "execution_count": null,
   "id": "f776c8c0",
   "metadata": {},
   "outputs": [],
   "source": []
  },
  {
   "cell_type": "code",
   "execution_count": null,
   "id": "09c2f9a7",
   "metadata": {},
   "outputs": [],
   "source": []
  },
  {
   "cell_type": "code",
   "execution_count": null,
   "id": "c0c56b1d",
   "metadata": {},
   "outputs": [],
   "source": []
  },
  {
   "cell_type": "code",
   "execution_count": 27,
   "id": "0b58fa14",
   "metadata": {},
   "outputs": [
    {
     "data": {
      "text/plain": [
       "0       0.21\n",
       "1       1.14\n",
       "2       0.37\n",
       "3       0.50\n",
       "4       0.82\n",
       "        ... \n",
       "4208     NaN\n",
       "4209     NaN\n",
       "4210     NaN\n",
       "4211     NaN\n",
       "4212     NaN\n",
       "Name: reviews_per_month, Length: 4213, dtype: float64"
      ]
     },
     "execution_count": 27,
     "metadata": {},
     "output_type": "execute_result"
    }
   ],
   "source": [
    "#house = pd.merge(listings_df['beds'], listings_df['bedrooms'],on = listings_df[])\n",
    "house\n",
    "rev_per_month"
   ]
  },
  {
   "cell_type": "code",
   "execution_count": null,
   "id": "a00657e9",
   "metadata": {},
   "outputs": [],
   "source": []
  },
  {
   "cell_type": "code",
   "execution_count": 63,
   "id": "29e537d6",
   "metadata": {},
   "outputs": [
    {
     "data": {
      "text/plain": [
       "Entire home/apt    3425\n",
       "Private room        728\n",
       "Shared room          46\n",
       "Hotel room           14\n",
       "Name: room_type, dtype: int64"
      ]
     },
     "execution_count": 63,
     "metadata": {},
     "output_type": "execute_result"
    }
   ],
   "source": [
    "room_type.value_counts()"
   ]
  },
  {
   "cell_type": "code",
   "execution_count": 62,
   "id": "8df8d2ac",
   "metadata": {},
   "outputs": [
    {
     "data": {
      "text/plain": [
       "Entire home/apt    0.812960\n",
       "Private room       0.172798\n",
       "Shared room        0.010919\n",
       "Hotel room         0.003323\n",
       "Name: room_type, dtype: float64"
      ]
     },
     "execution_count": 62,
     "metadata": {},
     "output_type": "execute_result"
    }
   ],
   "source": [
    "room_type.value_counts(normalize=True)"
   ]
  },
  {
   "cell_type": "code",
   "execution_count": 9,
   "id": "9f5a2027",
   "metadata": {},
   "outputs": [
    {
     "data": {
      "text/plain": [
       "1 bath               2650\n",
       "2 baths               430\n",
       "1 private bath        254\n",
       "1 shared bath         237\n",
       "1.5 baths             151\n",
       "2.5 baths             149\n",
       "2 shared baths         76\n",
       "3 baths                68\n",
       "3.5 baths              66\n",
       "1.5 shared baths       46\n",
       "3 shared baths         33\n",
       "0 shared baths         14\n",
       "4 baths                 7\n",
       "2.5 shared baths        4\n",
       "Half-bath               4\n",
       "3.5 shared baths        3\n",
       "5 shared baths          3\n",
       "16 shared baths         3\n",
       "Shared half-bath        2\n",
       "4 shared baths          2\n",
       "4.5 baths               2\n",
       "Private half-bath       2\n",
       "0 baths                 1\n",
       "6 baths                 1\n",
       "Name: bathrooms_text, dtype: int64"
      ]
     },
     "execution_count": 9,
     "metadata": {},
     "output_type": "execute_result"
    }
   ],
   "source": [
    "nbhood.value_counts()\n",
    "prop_type.value_counts()\n",
    "num_accom.value_counts()\n",
    "num_accom.value_counts(normalize=True)\n",
    "baths.value_counts()\n",
    "bedrooms.value_counts()\n",
    "beds.value_counts()\n",
    "baths.value_counts()"
   ]
  },
  {
   "cell_type": "code",
   "execution_count": 32,
   "id": "872e1997",
   "metadata": {},
   "outputs": [
    {
     "data": {
      "text/plain": [
       "0       Casa Madrona - Urban Oasis 1 block from the park!\n",
       "1                     Glorious sun room w/ memory foambed\n",
       "2                     The Adorable Sweet Orange Craftsman\n",
       "3                        The Coolest Tangerine Dream MIL!\n",
       "4              the down home , spacious, central and fab!\n",
       "                              ...                        \n",
       "4208             Spacious 2BD apartment with self-checkin\n",
       "4209    Amazing 2BD Seattle apartment, fast wifi, self...\n",
       "4210    Seattle Water View Home with Hot Tub: Trendy B...\n",
       "4211      **WOW** Stylish Ballard True 1BR Apt - Pets ok!\n",
       "4212            Capitol Hill Studio, w/ W/D by Blueground\n",
       "Name: name, Length: 4213, dtype: object"
      ]
     },
     "execution_count": 32,
     "metadata": {},
     "output_type": "execute_result"
    }
   ],
   "source": [
    "names"
   ]
  },
  {
   "cell_type": "code",
   "execution_count": 43,
   "id": "2084ecfe",
   "metadata": {},
   "outputs": [
    {
     "data": {
      "text/plain": [
       "Barsala           140\n",
       "Kia                96\n",
       "Melissa            94\n",
       "Blueground         93\n",
       "Eric               79\n",
       "                 ... \n",
       "Blake & Lauren      1\n",
       "Cyndy               1\n",
       "Ashly               1\n",
       "Jim                 1\n",
       "Siri                1\n",
       "Name: host_name, Length: 1330, dtype: int64"
      ]
     },
     "execution_count": 43,
     "metadata": {},
     "output_type": "execute_result"
    }
   ],
   "source": [
    "host_name.value_counts()"
   ]
  },
  {
   "cell_type": "markdown",
   "id": "b0360de6",
   "metadata": {},
   "source": [
    "#listings per host don't match occurances of host name because hosts might have properties in other cities"
   ]
  },
  {
   "cell_type": "code",
   "execution_count": 44,
   "id": "f49bd5a7",
   "metadata": {},
   "outputs": [
    {
     "data": {
      "text/plain": [
       "\"Now booking 30 night Minimum only. Please contact for seasonal discounts. <br /><br />Gorgeous, architect remodeled, Dutch Colonial in the heart of Madrona. 4 Bedroom, 2.5 bath, Chef's Kitchen, gracious living and dining room, enclosed back garden, deck, grill, fruit trees. <br /><br />2 blocks to bus. <br />3 mins to Cap Hill. <br />5 Mins to downtown<br />5 mins to Amazon, Google, South Lake Union. <br />Within 5-10 minutes of 5 of the areas largest hospitals.<br />Extra storage space in basement for families that are remodeling/moving<br /><br /><b>The space</b><br />This beautiful, gracious home has been completely restored from the studs up, adding period touches such as window benches and floor to ceiling bookshelves. The house is perfect for family gatherings, large or small, groups of friends, or colleagues.<br /><br />Upstairs are 4 bedrooms and two full baths with Olympic mountain and city skyline views. The main floor features a formal entry leading to a sun-lit living room \""
      ]
     },
     "execution_count": 44,
     "metadata": {},
     "output_type": "execute_result"
    }
   ],
   "source": [
    "description[0]"
   ]
  },
  {
   "cell_type": "code",
   "execution_count": 34,
   "id": "84b0b63a",
   "metadata": {},
   "outputs": [
    {
     "data": {
      "text/plain": [
       "0       Madrona is a hidden gem of a neighborhood. It ...\n",
       "1       Lots of restaurants (see our guide book) bars,...\n",
       "2       The neighborhood is awesome!  Just far enough ...\n",
       "3       The neighborhood is the best of two worlds...w...\n",
       "4       if you arrive early for check in at 3,  I reco...\n",
       "                              ...                        \n",
       "4208                                                  NaN\n",
       "4209                                                  NaN\n",
       "4210                                              Ballard\n",
       "4211    Located right near Market Street and 15th at t...\n",
       "4212    This furnished apartment is situated in Capito...\n",
       "Name: neighborhood_overview, Length: 4213, dtype: object"
      ]
     },
     "execution_count": 34,
     "metadata": {},
     "output_type": "execute_result"
    }
   ],
   "source": [
    "nbhood_oview"
   ]
  },
  {
   "cell_type": "code",
   "execution_count": 45,
   "id": "2a4b9be8",
   "metadata": {},
   "outputs": [
    {
     "data": {
      "text/plain": [
       "f    0.513174\n",
       "t    0.486826\n",
       "Name: instant_bookable, dtype: float64"
      ]
     },
     "execution_count": 45,
     "metadata": {},
     "output_type": "execute_result"
    }
   ],
   "source": [
    "instant_book\n",
    "instant_book.value_counts(normalize=True)"
   ]
  },
  {
   "cell_type": "code",
   "execution_count": 48,
   "id": "cad7419b",
   "metadata": {},
   "outputs": [
    {
     "data": {
      "text/plain": [
       "1.0       1242\n",
       "2.0        519\n",
       "0.0        438\n",
       "3.0        281\n",
       "882.0      140\n",
       "4.0        132\n",
       "10.0       103\n",
       "1225.0      96\n",
       "6.0         96\n",
       "1435.0      93\n",
       "5.0         91\n",
       "1318.0      75\n",
       "68.0        75\n",
       "8.0         69\n",
       "7.0         64\n",
       "9.0         56\n",
       "17.0        51\n",
       "64.0        44\n",
       "24.0        42\n",
       "13.0        32\n",
       "11.0        29\n",
       "27.0        28\n",
       "40.0        27\n",
       "14.0        22\n",
       "15.0        19\n",
       "31.0        17\n",
       "12.0        16\n",
       "131.0       14\n",
       "16.0        13\n",
       "20.0        12\n",
       "77.0        12\n",
       "18.0        11\n",
       "22.0        10\n",
       "342.0        9\n",
       "458.0        8\n",
       "206.0        7\n",
       "46.0         7\n",
       "475.0        6\n",
       "94.0         3\n",
       "58.0         2\n",
       "28.0         2\n",
       "135.0        2\n",
       "496.0        1\n",
       "49.0         1\n",
       "128.0        1\n",
       "264.0        1\n",
       "51.0         1\n",
       "144.0        1\n",
       "Name: host_total_listings_count, dtype: int64"
      ]
     },
     "execution_count": 48,
     "metadata": {},
     "output_type": "execute_result"
    }
   ],
   "source": [
    "lstgs_per_host\n",
    "lstgs_per_host.value_counts()"
   ]
  },
  {
   "cell_type": "code",
   "execution_count": null,
   "id": "ced0d274",
   "metadata": {},
   "outputs": [],
   "source": [
    "value_counts(normalize=True)"
   ]
  },
  {
   "cell_type": "code",
   "execution_count": 50,
   "id": "5383c0c3",
   "metadata": {},
   "outputs": [
    {
     "data": {
      "text/plain": [
       "100.0    781\n",
       "99.0     496\n",
       "98.0     471\n",
       "97.0     377\n",
       "96.0     300\n",
       "95.0     209\n",
       "93.0     146\n",
       "94.0     135\n",
       "92.0     102\n",
       "90.0      68\n",
       "80.0      64\n",
       "91.0      61\n",
       "88.0      39\n",
       "87.0      35\n",
       "89.0      34\n",
       "60.0      27\n",
       "85.0      21\n",
       "86.0      20\n",
       "84.0      14\n",
       "83.0      13\n",
       "82.0      11\n",
       "20.0      11\n",
       "75.0       7\n",
       "81.0       6\n",
       "70.0       5\n",
       "50.0       4\n",
       "30.0       3\n",
       "40.0       3\n",
       "78.0       3\n",
       "67.0       3\n",
       "73.0       3\n",
       "77.0       2\n",
       "72.0       2\n",
       "57.0       1\n",
       "63.0       1\n",
       "55.0       1\n",
       "79.0       1\n",
       "51.0       1\n",
       "76.0       1\n",
       "Name: review_scores_rating, dtype: int64"
      ]
     },
     "execution_count": 50,
     "metadata": {},
     "output_type": "execute_result"
    }
   ],
   "source": [
    "rev_scores.value_counts()"
   ]
  },
  {
   "cell_type": "code",
   "execution_count": 45,
   "id": "fbd5e0b0",
   "metadata": {},
   "outputs": [
    {
     "data": {
      "text/plain": [
       "<AxesSubplot:>"
      ]
     },
     "execution_count": 45,
     "metadata": {},
     "output_type": "execute_result"
    },
    {
     "data": {
      "image/png": "[encoded data removed]",
      "text/plain": [
       "<Figure size 432x288 with 1 Axes>"
      ]
     },
     "metadata": {
      "needs_background": "light"
     },
     "output_type": "display_data"
    }
   ],
   "source": [
    "rev_scores.plot()"
   ]
  },
  {
   "cell_type": "code",
   "execution_count": null,
   "id": "ba2c2131",
   "metadata": {},
   "outputs": [],
   "source": []
  },
  {
   "cell_type": "code",
   "execution_count": 7,
   "id": "94752ef4",
   "metadata": {},
   "outputs": [
    {
     "data": {
      "text/html": [
       "<div>\n",
       "<style scoped>\n",
       "    .dataframe tbody tr th:only-of-type {\n",
       "        vertical-align: middle;\n",
       "    }\n",
       "\n",
       "    .dataframe tbody tr th {\n",
       "        vertical-align: top;\n",
       "    }\n",
       "\n",
       "    .dataframe thead th {\n",
       "        text-align: right;\n",
       "    }\n",
       "</style>\n",
       "<table border=\"1\" class=\"dataframe\">\n",
       "  <thead>\n",
       "    <tr style=\"text-align: right;\">\n",
       "      <th></th>\n",
       "      <th>neighbourhood_group</th>\n",
       "      <th>neighbourhood</th>\n",
       "    </tr>\n",
       "  </thead>\n",
       "  <tbody>\n",
       "    <tr>\n",
       "      <th>0</th>\n",
       "      <td>Ballard</td>\n",
       "      <td>Adams</td>\n",
       "    </tr>\n",
       "    <tr>\n",
       "      <th>1</th>\n",
       "      <td>Ballard</td>\n",
       "      <td>Loyal Heights</td>\n",
       "    </tr>\n",
       "    <tr>\n",
       "      <th>2</th>\n",
       "      <td>Ballard</td>\n",
       "      <td>Sunset Hill</td>\n",
       "    </tr>\n",
       "    <tr>\n",
       "      <th>3</th>\n",
       "      <td>Ballard</td>\n",
       "      <td>West Woodland</td>\n",
       "    </tr>\n",
       "    <tr>\n",
       "      <th>4</th>\n",
       "      <td>Ballard</td>\n",
       "      <td>Whittier Heights</td>\n",
       "    </tr>\n",
       "    <tr>\n",
       "      <th>...</th>\n",
       "      <td>...</td>\n",
       "      <td>...</td>\n",
       "    </tr>\n",
       "    <tr>\n",
       "      <th>85</th>\n",
       "      <td>West Seattle</td>\n",
       "      <td>Fauntleroy</td>\n",
       "    </tr>\n",
       "    <tr>\n",
       "      <th>86</th>\n",
       "      <td>West Seattle</td>\n",
       "      <td>Gatewood</td>\n",
       "    </tr>\n",
       "    <tr>\n",
       "      <th>87</th>\n",
       "      <td>West Seattle</td>\n",
       "      <td>Genesee</td>\n",
       "    </tr>\n",
       "    <tr>\n",
       "      <th>88</th>\n",
       "      <td>West Seattle</td>\n",
       "      <td>North Admiral</td>\n",
       "    </tr>\n",
       "    <tr>\n",
       "      <th>89</th>\n",
       "      <td>West Seattle</td>\n",
       "      <td>Seaview</td>\n",
       "    </tr>\n",
       "  </tbody>\n",
       "</table>\n",
       "<p>90 rows × 2 columns</p>\n",
       "</div>"
      ],
      "text/plain": [
       "   neighbourhood_group     neighbourhood\n",
       "0              Ballard             Adams\n",
       "1              Ballard     Loyal Heights\n",
       "2              Ballard       Sunset Hill\n",
       "3              Ballard     West Woodland\n",
       "4              Ballard  Whittier Heights\n",
       "..                 ...               ...\n",
       "85        West Seattle        Fauntleroy\n",
       "86        West Seattle          Gatewood\n",
       "87        West Seattle           Genesee\n",
       "88        West Seattle     North Admiral\n",
       "89        West Seattle           Seaview\n",
       "\n",
       "[90 rows x 2 columns]"
      ]
     },
     "execution_count": 7,
     "metadata": {},
     "output_type": "execute_result"
    }
   ],
   "source": [
    "neighbourhoods_df = pd.read_csv('neighbourhoods.csv')\n",
    "neighbourhoods_df"
   ]
  },
  {
   "cell_type": "code",
   "execution_count": 8,
   "id": "53733b8c",
   "metadata": {
    "scrolled": true
   },
   "outputs": [
    {
     "data": {
      "text/html": [
       "<div>\n",
       "<style scoped>\n",
       "    .dataframe tbody tr th:only-of-type {\n",
       "        vertical-align: middle;\n",
       "    }\n",
       "\n",
       "    .dataframe tbody tr th {\n",
       "        vertical-align: top;\n",
       "    }\n",
       "\n",
       "    .dataframe thead th {\n",
       "        text-align: right;\n",
       "    }\n",
       "</style>\n",
       "<table border=\"1\" class=\"dataframe\">\n",
       "  <thead>\n",
       "    <tr style=\"text-align: right;\">\n",
       "      <th></th>\n",
       "      <th>listing_id</th>\n",
       "      <th>id</th>\n",
       "      <th>date</th>\n",
       "      <th>reviewer_id</th>\n",
       "      <th>reviewer_name</th>\n",
       "      <th>comments</th>\n",
       "    </tr>\n",
       "  </thead>\n",
       "  <tbody>\n",
       "    <tr>\n",
       "      <th>0</th>\n",
       "      <td>2318</td>\n",
       "      <td>146</td>\n",
       "      <td>2008-09-15</td>\n",
       "      <td>2451</td>\n",
       "      <td>Kevin</td>\n",
       "      <td>1000 times better than staying at a hotel.</td>\n",
       "    </tr>\n",
       "    <tr>\n",
       "      <th>1</th>\n",
       "      <td>2318</td>\n",
       "      <td>126302712</td>\n",
       "      <td>2017-01-10</td>\n",
       "      <td>12332845</td>\n",
       "      <td>Jessica</td>\n",
       "      <td>Our family (two couples, a two year old and an...</td>\n",
       "    </tr>\n",
       "    <tr>\n",
       "      <th>2</th>\n",
       "      <td>2318</td>\n",
       "      <td>140977084</td>\n",
       "      <td>2017-04-01</td>\n",
       "      <td>4789466</td>\n",
       "      <td>Ivan</td>\n",
       "      <td>Top of the list locations we have stayed at! T...</td>\n",
       "    </tr>\n",
       "    <tr>\n",
       "      <th>3</th>\n",
       "      <td>2318</td>\n",
       "      <td>147262504</td>\n",
       "      <td>2017-04-25</td>\n",
       "      <td>55817131</td>\n",
       "      <td>Mike</td>\n",
       "      <td>SUCH an awesome place. Very clean, quiet and s...</td>\n",
       "    </tr>\n",
       "    <tr>\n",
       "      <th>4</th>\n",
       "      <td>2318</td>\n",
       "      <td>161806368</td>\n",
       "      <td>2017-06-18</td>\n",
       "      <td>113604590</td>\n",
       "      <td>Pete</td>\n",
       "      <td>We flew quite a distance to be at our only dau...</td>\n",
       "    </tr>\n",
       "    <tr>\n",
       "      <th>...</th>\n",
       "      <td>...</td>\n",
       "      <td>...</td>\n",
       "      <td>...</td>\n",
       "      <td>...</td>\n",
       "      <td>...</td>\n",
       "      <td>...</td>\n",
       "    </tr>\n",
       "    <tr>\n",
       "      <th>262464</th>\n",
       "      <td>48382242</td>\n",
       "      <td>736787217</td>\n",
       "      <td>2021-03-06</td>\n",
       "      <td>215409003</td>\n",
       "      <td>Kelvin</td>\n",
       "      <td>“They weren’t kidding when it says Pike Place ...</td>\n",
       "    </tr>\n",
       "    <tr>\n",
       "      <th>262465</th>\n",
       "      <td>48382242</td>\n",
       "      <td>737302569</td>\n",
       "      <td>2021-03-07</td>\n",
       "      <td>62957433</td>\n",
       "      <td>Evan</td>\n",
       "      <td>This is such a steal of a deal it’s not even f...</td>\n",
       "    </tr>\n",
       "    <tr>\n",
       "      <th>262466</th>\n",
       "      <td>48382242</td>\n",
       "      <td>738367090</td>\n",
       "      <td>2021-03-12</td>\n",
       "      <td>164562404</td>\n",
       "      <td>Sarah</td>\n",
       "      <td>One of the best parts about staying here was t...</td>\n",
       "    </tr>\n",
       "    <tr>\n",
       "      <th>262467</th>\n",
       "      <td>48382242</td>\n",
       "      <td>739244211</td>\n",
       "      <td>2021-03-14</td>\n",
       "      <td>187191376</td>\n",
       "      <td>Arianne</td>\n",
       "      <td>Amazing place for a Seattle trip. We fell in l...</td>\n",
       "    </tr>\n",
       "    <tr>\n",
       "      <th>262468</th>\n",
       "      <td>48466755</td>\n",
       "      <td>736794032</td>\n",
       "      <td>2021-03-06</td>\n",
       "      <td>387349411</td>\n",
       "      <td>Aubrey</td>\n",
       "      <td>I didn’t want to leave and was wishing it was ...</td>\n",
       "    </tr>\n",
       "  </tbody>\n",
       "</table>\n",
       "<p>262469 rows × 6 columns</p>\n",
       "</div>"
      ],
      "text/plain": [
       "        listing_id         id        date  reviewer_id reviewer_name  \\\n",
       "0             2318        146  2008-09-15         2451         Kevin   \n",
       "1             2318  126302712  2017-01-10     12332845       Jessica   \n",
       "2             2318  140977084  2017-04-01      4789466          Ivan   \n",
       "3             2318  147262504  2017-04-25     55817131          Mike   \n",
       "4             2318  161806368  2017-06-18    113604590          Pete   \n",
       "...            ...        ...         ...          ...           ...   \n",
       "262464    48382242  736787217  2021-03-06    215409003        Kelvin   \n",
       "262465    48382242  737302569  2021-03-07     62957433          Evan   \n",
       "262466    48382242  738367090  2021-03-12    164562404         Sarah   \n",
       "262467    48382242  739244211  2021-03-14    187191376       Arianne   \n",
       "262468    48466755  736794032  2021-03-06    387349411        Aubrey   \n",
       "\n",
       "                                                 comments  \n",
       "0             1000 times better than staying at a hotel.   \n",
       "1       Our family (two couples, a two year old and an...  \n",
       "2       Top of the list locations we have stayed at! T...  \n",
       "3       SUCH an awesome place. Very clean, quiet and s...  \n",
       "4       We flew quite a distance to be at our only dau...  \n",
       "...                                                   ...  \n",
       "262464  “They weren’t kidding when it says Pike Place ...  \n",
       "262465  This is such a steal of a deal it’s not even f...  \n",
       "262466  One of the best parts about staying here was t...  \n",
       "262467  Amazing place for a Seattle trip. We fell in l...  \n",
       "262468  I didn’t want to leave and was wishing it was ...  \n",
       "\n",
       "[262469 rows x 6 columns]"
      ]
     },
     "execution_count": 8,
     "metadata": {},
     "output_type": "execute_result"
    }
   ],
   "source": [
    "reviews_df = pd.read_csv('reviews.csv')\n",
    "reviews_df"
   ]
  },
  {
   "cell_type": "code",
   "execution_count": 36,
   "id": "55843a7a",
   "metadata": {},
   "outputs": [],
   "source": [
    "#finding p value for hypothesis testing\n",
    "#p = stats.ttest_ind(price, rev_scores, equal_var=True)[1]\n",
    "#p"
   ]
  },
  {
   "cell_type": "code",
   "execution_count": 60,
   "id": "96a6b14d",
   "metadata": {},
   "outputs": [
    {
     "data": {
      "image/png": "[encoded data removed]",
      "text/plain": [
       "<Figure size 432x288 with 1 Axes>"
      ]
     },
     "metadata": {
      "needs_background": "light"
     },
     "output_type": "display_data"
    }
   ],
   "source": [
    "fig, ax = plt.subplots()\n",
    "entire_home_nbhood_grouped = entire_home_nbhood.value_counts()\n",
    "entire_home_nbhood_grouped.plot.bar()\n",
    "ax.set_xlabel('Neighborhoods')\n",
    "ax.set_ylabel('Number of Entire Home Listings')\n",
    "ax.set_title('Number of Entire Home Listings per Neighborhood')\n",
    "plt.savefig('Entire Home Neighborhoods')"
   ]
  },
  {
   "cell_type": "code",
   "execution_count": 61,
   "id": "3fb3ecd7",
   "metadata": {},
   "outputs": [
    {
     "data": {
      "image/png": "[encoded data removed]",
      "text/plain": [
       "<Figure size 432x288 with 1 Axes>"
      ]
     },
     "metadata": {
      "needs_background": "light"
     },
     "output_type": "display_data"
    }
   ],
   "source": [
    "fig, ax = plt.subplots()\n",
    "private_room_nbhood_grouped = private_room_nbhood.value_counts()\n",
    "private_room_nbhood_grouped.plot.bar()\n",
    "ax.set_xlabel('Neighborhoods')\n",
    "ax.set_ylabel('Number of Private Room Listings')\n",
    "ax.set_title('Number of Private Room Listings per Neighborhood')\n",
    "plt.savefig('Private Room Neighborhoods')"
   ]
  },
  {
   "cell_type": "code",
   "execution_count": 58,
   "id": "079ce2d8",
   "metadata": {},
   "outputs": [
    {
     "data": {
      "image/png": "[encoded data removed]",
      "text/plain": [
       "<Figure size 432x288 with 1 Axes>"
      ]
     },
     "metadata": {
      "needs_background": "light"
     },
     "output_type": "display_data"
    }
   ],
   "source": [
    "fig, ax = plt.subplots()\n",
    "room_type_grouped = room_type.value_counts()\n",
    "room_type_grouped.plot.bar()\n",
    "ax.set_xlabel('Types of Rooms')\n",
    "ax.set_ylabel('Number of Listings')\n",
    "ax.set_title('Number of Listings per Type of Room')\n",
    "plt.savefig('Room Types')"
   ]
  },
  {
   "cell_type": "code",
   "execution_count": 59,
   "id": "1a3095e1",
   "metadata": {},
   "outputs": [
    {
     "data": {
      "image/png": "[encoded data removed]",
      "text/plain": [
       "<Figure size 432x288 with 1 Axes>"
      ]
     },
     "metadata": {
      "needs_background": "light"
     },
     "output_type": "display_data"
    }
   ],
   "source": [
    "fig, ax = plt.subplots()\n",
    "rev_scores_grouped = rev_scores.value_counts()\n",
    "rev_scores_grouped.plot(x='Review Scores Rating', y = 'Number of Listings', style='.')\n",
    "ax.set_xlabel('Review Scores Rating')\n",
    "ax.set_ylabel('Number of Listings')\n",
    "ax.set_title('Number of Listings per Review Scores Ratings')\n",
    "plt.savefig('Number of Listings per Review Scores Ratings')"
   ]
  },
  {
   "cell_type": "code",
   "execution_count": null,
   "id": "f57d4e80",
   "metadata": {},
   "outputs": [],
   "source": [
    "instant_book \n",
    "lstgs_per_host \n",
    "accep_rate = \n",
    "resp_rate = \n",
    "superhost \n",
    "pro_pic\n",
    "nbhood \n",
    "prop_type \n",
    "num_accom \n",
    "baths = listings_df['bathrooms_text']\n",
    "bedrooms = listings_df['bedrooms']\n",
    "beds = listings_df['beds']\n",
    "amenities = listings_df['amenities']\n",
    "price = listings_df['price']\n",
    "min_nights = listings_df['minimum_nights']\n",
    "num_reviews = listings_df['number_of_reviews']\n",
    "rev_scores = listings_df['review_scores_rating']\n",
    "rev_per_month"
   ]
  },
  {
   "cell_type": "code",
   "execution_count": 22,
   "id": "e8d641f8",
   "metadata": {},
   "outputs": [
    {
     "data": {
      "text/plain": [
       "<AxesSubplot:>"
      ]
     },
     "execution_count": 22,
     "metadata": {},
     "output_type": "execute_result"
    },
    {
     "data": {
      "image/png": "[encoded data removed]",
      "text/plain": [
       "<Figure size 432x288 with 1 Axes>"
      ]
     },
     "metadata": {
      "needs_background": "light"
     },
     "output_type": "display_data"
    }
   ],
   "source": [
    "plt.figure\n",
    "house.plot()"
   ]
  },
  {
   "cell_type": "code",
   "execution_count": null,
   "id": "64e37733",
   "metadata": {},
   "outputs": [],
   "source": []
  },
  {
   "cell_type": "code",
   "execution_count": null,
   "id": "579ad9bb",
   "metadata": {},
   "outputs": [],
   "source": []
  },
  {
   "cell_type": "code",
   "execution_count": null,
   "id": "ec308753",
   "metadata": {},
   "outputs": [],
   "source": []
  },
  {
   "cell_type": "code",
   "execution_count": null,
   "id": "d7a1b773",
   "metadata": {},
   "outputs": [],
   "source": []
  },
  {
   "cell_type": "code",
   "execution_count": null,
   "id": "92b4c98f",
   "metadata": {},
   "outputs": [],
   "source": []
  },
  {
   "cell_type": "code",
   "execution_count": null,
   "id": "76f69f2e",
   "metadata": {},
   "outputs": [],
   "source": []
  },
  {
   "cell_type": "code",
   "execution_count": null,
   "id": "be36b01a",
   "metadata": {},
   "outputs": [],
   "source": []
  },
  {
   "cell_type": "code",
   "execution_count": null,
   "id": "3540d1ac",
   "metadata": {},
   "outputs": [],
   "source": []
  },
  {
   "cell_type": "code",
   "execution_count": null,
   "id": "1fcc5600",
   "metadata": {},
   "outputs": [],
   "source": []
  }
 ],
 "metadata": {
  "kernelspec": {
   "display_name": "Python 3",
   "language": "python",
   "name": "python3"
  },
  "language_info": {
   "codemirror_mode": {
    "name": "ipython",
    "version": 3
   },
   "file_extension": ".py",
   "mimetype": "text/x-python",
   "name": "python",
   "nbconvert_exporter": "python",
   "pygments_lexer": "ipython3",
   "version": "3.8.8"
  }
 },
 "nbformat": 4,
 "nbformat_minor": 5
}
